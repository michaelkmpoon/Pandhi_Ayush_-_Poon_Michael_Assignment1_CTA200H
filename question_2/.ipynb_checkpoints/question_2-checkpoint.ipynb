{
 "cells": [
  {
   "cell_type": "markdown",
   "metadata": {},
   "source": [
    "##  Michael Poon - CTA200H (May 2018)\n",
    "PART A\n",
    "\n",
    "Step 1: Take valid input for n and k.\n",
    "  "
   ]
  },
  {
   "cell_type": "code",
   "execution_count": 1,
   "metadata": {},
   "outputs": [
    {
     "name": "stdout",
     "output_type": "stream",
     "text": [
      "Please enter a non-negative integer value for n: 5\n",
      "Please enter a non-negative integer value for k such that n >= k: 2\n"
     ]
    }
   ],
   "source": [
    "while True: \n",
    "    try: \n",
    "        n = int(input(\"Please enter a non-negative integer value for n: \"))\n",
    "        k = int(input(\"Please enter a non-negative integer value for k such that n >= k: \"))\n",
    "        \n",
    "        while n < k and k > -1:\n",
    "            print(\"Error. Either n or k is negative, or they both are not integer values. \")\n",
    "            print(\"n < k is also not allowed.\\n\")\n",
    "            n = int(input(\"Please enter a non-negative integer value for n: \"))\n",
    "            k = int(input(\"Please enter a non-negetive integer value for k such that n >= k: \"))\n",
    "        break\n",
    "    except ValueError:  # takes care of non-integer values\n",
    "        print(\"Error. Either n or k is negative, or they both are not integer values. \")\n",
    "        print(\"n < k is also not allowed.\\n\")\n",
    "    "
   ]
  },
  {
   "cell_type": "markdown",
   "metadata": {},
   "source": [
    "Step 2: Perform routine to generate binomial coeffficient."
   ]
  },
  {
   "cell_type": "code",
   "execution_count": 2,
   "metadata": {},
   "outputs": [
    {
     "data": {
      "text/plain": [
       "10"
      ]
     },
     "execution_count": 2,
     "metadata": {},
     "output_type": "execute_result"
    }
   ],
   "source": [
    "import math\n",
    "\n",
    "def binomial_coefficient(n, k):\n",
    "    b_c = math.factorial(n)/(math.factorial(k) * math.factorial (n - k))\n",
    "    return int(b_c)\n",
    "\n",
    "int(binomial_coefficient(n, k))"
   ]
  },
  {
   "cell_type": "markdown",
   "metadata": {},
   "source": [
    "\n",
    "PART B\n",
    "\n",
    "Using binomial_coefficient defined in Step 2, write out the first 20 lines of Pascal's triangle."
   ]
  },
  {
   "cell_type": "code",
   "execution_count": 3,
   "metadata": {},
   "outputs": [
    {
     "name": "stdout",
     "output_type": "stream",
     "text": [
      "[1]\n",
      "[1, 1]\n",
      "[1, 2, 1]\n",
      "[1, 3, 3, 1]\n",
      "[1, 4, 6, 4, 1]\n",
      "[1, 5, 10, 10, 5, 1]\n",
      "[1, 6, 15, 20, 15, 6, 1]\n",
      "[1, 7, 21, 35, 35, 21, 7, 1]\n",
      "[1, 8, 28, 56, 70, 56, 28, 8, 1]\n",
      "[1, 9, 36, 84, 126, 126, 84, 36, 9, 1]\n",
      "[1, 10, 45, 120, 210, 252, 210, 120, 45, 10, 1]\n",
      "[1, 11, 55, 165, 330, 462, 462, 330, 165, 55, 11, 1]\n",
      "[1, 12, 66, 220, 495, 792, 924, 792, 495, 220, 66, 12, 1]\n",
      "[1, 13, 78, 286, 715, 1287, 1716, 1716, 1287, 715, 286, 78, 13, 1]\n",
      "[1, 14, 91, 364, 1001, 2002, 3003, 3432, 3003, 2002, 1001, 364, 91, 14, 1]\n",
      "[1, 15, 105, 455, 1365, 3003, 5005, 6435, 6435, 5005, 3003, 1365, 455, 105, 15, 1]\n",
      "[1, 16, 120, 560, 1820, 4368, 8008, 11440, 12870, 11440, 8008, 4368, 1820, 560, 120, 16, 1]\n",
      "[1, 17, 136, 680, 2380, 6188, 12376, 19448, 24310, 24310, 19448, 12376, 6188, 2380, 680, 136, 17, 1]\n",
      "[1, 18, 153, 816, 3060, 8568, 18564, 31824, 43758, 48620, 43758, 31824, 18564, 8568, 3060, 816, 153, 18, 1]\n",
      "[1, 19, 171, 969, 3876, 11628, 27132, 50388, 75582, 92378, 92378, 75582, 50388, 27132, 11628, 3876, 969, 171, 19, 1]\n"
     ]
    }
   ],
   "source": [
    "n = 0\n",
    "while n < 20:\n",
    "    line = []\n",
    "    k = 0\n",
    "    while k < n + 1:\n",
    "        line.append(binomial_coefficient(n, k))\n",
    "        k += 1\n",
    "    print (line)\n",
    "    n  += 1\n",
    "    \n",
    "\n",
    "    "
   ]
  },
  {
   "cell_type": "markdown",
   "metadata": {},
   "source": [
    "\n",
    "PART C\n",
    "\n",
    "Using binomial_cofficient and the equation given in Problem Set 1, calculate the probability of the coin flip experiment."
   ]
  },
  {
   "cell_type": "code",
   "execution_count": 4,
   "metadata": {},
   "outputs": [
    {
     "name": "stdout",
     "output_type": "stream",
     "text": [
      "0.26\n"
     ]
    }
   ],
   "source": [
    "p = 0.7  # probability of heads\n",
    "n = 4    # number of flips\n",
    "k = 2    # number of heads\n",
    " \n",
    "def probability_calculation (p, n, k):\n",
    "    probability = binomial_coefficient(n, k) * p ** k * (1 - p) ** (n - k)\n",
    "    return(probability)\n",
    "\n",
    "print(\"%3.2f\" % probability_calculation(p, n, k))"
   ]
  },
  {
   "cell_type": "markdown",
   "metadata": {},
   "source": [
    "PART D\n",
    "\n",
    "Simulate experiment using a random number generator and comparing it to the probability calculation.\n",
    "\n",
    "Experiment is perfomed 10, 100 and 1000 times.\n",
    "\n",
    "Results shown in a pie chart."
   ]
  },
  {
   "cell_type": "code",
   "execution_count": 5,
   "metadata": {},
   "outputs": [
    {
     "name": "stdout",
     "output_type": "stream",
     "text": [
      "Conducting 10 simulation trials. 10.00 % successful.\n"
     ]
    },
    {
     "data": {
      "image/png": "[encoded data removed]",
      "text/plain": [
       "<matplotlib.figure.Figure at 0x1573d195278>"
      ]
     },
     "metadata": {},
     "output_type": "display_data"
    },
    {
     "name": "stdout",
     "output_type": "stream",
     "text": [
      "Conducting 100 simulation trials. 23.00 % successful.\n"
     ]
    },
    {
     "data": {
      "image/png": "[encoded data removed]",
      "text/plain": [
       "<matplotlib.figure.Figure at 0x1573d480b00>"
      ]
     },
     "metadata": {},
     "output_type": "display_data"
    },
    {
     "name": "stdout",
     "output_type": "stream",
     "text": [
      "Conducting 1000 simulation trials. 23.40 % successful.\n"
     ]
    },
    {
     "data": {
      "image/png": "[encoded data removed]",
      "text/plain": [
       "<matplotlib.figure.Figure at 0x1573d4e0748>"
      ]
     },
     "metadata": {},
     "output_type": "display_data"
    }
   ],
   "source": [
    "import random\n",
    "import matplotlib.pyplot as plt\n",
    "\n",
    "N = [10, 100, 1000]  # number of times experiment performened per simulation\n",
    "\n",
    "for experiment in N:\n",
    "    successful_trials = 0\n",
    "    for trial in range(experiment):\n",
    "        if random.randint(1, 100) <= 100 * probability_calculation(p, n, k):# random trial is successful if TRUE and not if FALSE\n",
    "            successful_trials += 1\n",
    "    fraction_of_successful_trials = 100 *  successful_trials / experiment\n",
    "    print(\"Conducting\",  experiment,  \"simulation trials.\", \"%4.2f\"%fraction_of_successful_trials,  \"% successful.\")\n",
    "    \n",
    "    labels = \"Successful\", \"Unsuccessful\" #  making pie chart\n",
    "    sizes = [round(fraction_of_successful_trials, 4), 100 - round(fraction_of_successful_trials, 4)]\n",
    "    explode = (0.1, 0) #  successful slice will pop-out!\n",
    "    \n",
    "    fig1, ax1 = plt.subplots()\n",
    "    ax1.pie(sizes, explode=explode, labels=labels, autopct='%1.1f%%', shadow=True, startangle=90)\n",
    "    ax1.axis('equal')  # equal aspect ratio ensures that pie is drawn as a circle.\n",
    "\n",
    "    plt.show()"
   ]
  }
 ],
 "metadata": {
  "kernelspec": {
   "display_name": "Python 3",
   "language": "python",
   "name": "python3"
  },
  "language_info": {
   "codemirror_mode": {
    "name": "ipython",
    "version": 3
   },
   "file_extension": ".py",
   "mimetype": "text/x-python",
   "name": "python",
   "nbconvert_exporter": "python",
   "pygments_lexer": "ipython3",
   "version": "3.6.3"
  }
 },
 "nbformat": 4,
 "nbformat_minor": 2
}
